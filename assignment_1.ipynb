{
  "nbformat": 4,
  "nbformat_minor": 0,
  "metadata": {
    "colab": {
      "provenance": [],
      "authorship_tag": "ABX9TyMIxdMDGH6DQG96V5AyPNdc",
      "include_colab_link": true
    },
    "kernelspec": {
      "name": "python3",
      "display_name": "Python 3"
    },
    "language_info": {
      "name": "python"
    }
  },
  "cells": [
    {
      "cell_type": "markdown",
      "metadata": {
        "id": "view-in-github",
        "colab_type": "text"
      },
      "source": [
        "<a href=\"https://colab.research.google.com/github/2303A51040/2303A51040-Batch_17-/blob/main/assignment_1.ipynb\" target=\"_parent\"><img src=\"https://colab.research.google.com/assets/colab-badge.svg\" alt=\"Open In Colab\"/></a>"
      ]
    },
    {
      "cell_type": "code",
      "source": [
        "def factorial(n):\n",
        "    if n == 0 or n == 1:\n",
        "        return 1\n",
        "    return n * factorial(n - 1)\n",
        "\n",
        "def compute_permutation(n, r):\n",
        "    if n < r:\n",
        "        raise ValueError(\"Invalid input: n must be greater than or equal to r.\")\n",
        "    print(f\"Calculating {n}P{r} = {n}! / ({n} - {r})!\")\n",
        "    numerator = factorial(n)\n",
        "    denominator = factorial(n - r)\n",
        "    print(f\"{n}! = {numerator}\")\n",
        "    print(f\"({n}-{r})! = {denominator}\")\n",
        "    result = numerator // denominator\n",
        "    print(f\"Permutations = {result}\")\n",
        "    return result\n",
        "\n",
        "# Example Usage\n",
        "try:\n",
        "    n = int(input(\"Enter total number of people (n): \"))\n",
        "    r = int(input(\"Enter number of places (r): \"))\n",
        "    compute_permutation(n, r)\n",
        "except ValueError as e:\n",
        "    print(\"Error:\", e)\n",
        "\n"
      ],
      "metadata": {
        "id": "01nwayHrdhSd"
      },
      "execution_count": null,
      "outputs": []
    },
    {
      "cell_type": "code",
      "source": [],
      "metadata": {
        "id": "50VzbXKvfN8V"
      },
      "execution_count": null,
      "outputs": []
    }
  ]
}